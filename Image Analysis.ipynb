{
  "cells": [
    {
      "cell_type": "code",
      "source": [
        "image_url =\"http://upload.wikimedia.org/wikipedia/commons/thumb/1/12/Broadway_and_Times_Square_by_night.jpg/450px-Broadway_and_Times_Square_by_night.jpg\"\r\n",
        "subscription_key =\"ba039478e1174519a317bdd325c74142\"\r\n",
        "endpoint = \"https://visiondemo123.cognitiveservices.azure.com/\"\r\n",
        "\r\n",
        "import requests\r\n",
        "import json\r\n",
        "\r\n",
        "analyze_url = endpoint + \"vision/v3.2/describe\"\r\n",
        "\r\n",
        "from urllib.request import urlopen\r\n",
        "\r\n",
        "with urlopen(image_url) as file:\r\n",
        "    content = file.read()\r\n",
        "\r\n",
        "headers = {'Ocp-Apim-Subscription-Key': subscription_key, 'Content-Type': 'application/octet-stream' }\r\n",
        "params = {'visualFeatures': 'Description'}\r\n",
        "\r\n",
        "response = requests.post(analyze_url, headers=headers, params=params, data=content)\r\n",
        "response.raise_for_status()\r\n",
        "    \r\n",
        "analysis = response.json()\r\n",
        "\r\n",
        "image_caption = analysis[\"description\"][\"captions\"][0][\"text\"].capitalize().replace('\"','')\r\n",
        "print(image_caption)\r\n",
        "print(analysis)\r\n"
      ],
      "outputs": [
        {
          "output_type": "stream",
          "name": "stdout",
          "text": "A busy city street at night\n{'description': {'tags': ['building', 'outdoor', 'street', 'city', 'people', 'busy', 'night', 'ride', 'crowd'], 'captions': [{'text': 'a busy city street at night', 'confidence': 0.5885409712791443}]}, 'requestId': '86994dad-9da0-4335-ad03-fde68f3635c1', 'metadata': {'height': 600, 'width': 450, 'format': 'Jpeg'}, 'modelVersion': '2021-05-01'}\n"
        }
      ],
      "execution_count": 2,
      "metadata": {
        "gather": {
          "logged": 1639140733073
        }
      }
    }
  ],
  "metadata": {
    "kernelspec": {
      "name": "python3-azureml",
      "language": "python",
      "display_name": "Python 3.6 - AzureML"
    },
    "language_info": {
      "name": "python",
      "version": "3.6.9",
      "mimetype": "text/x-python",
      "codemirror_mode": {
        "name": "ipython",
        "version": 3
      },
      "pygments_lexer": "ipython3",
      "nbconvert_exporter": "python",
      "file_extension": ".py"
    },
    "kernel_info": {
      "name": "python3-azureml"
    },
    "microsoft": {
      "host": {
        "AzureML": {
          "notebookHasBeenCompleted": true
        }
      }
    },
    "nteract": {
      "version": "nteract-front-end@1.0.0"
    }
  },
  "nbformat": 4,
  "nbformat_minor": 2
}