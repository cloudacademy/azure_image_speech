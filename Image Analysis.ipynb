{
 "cells": [
  {
   "cell_type": "code",
   "execution_count": 1,
   "metadata": {},
   "outputs": [],
   "source": [
    "image_url =\"http://upload.wikimedia.org/wikipedia/commons/thumb/1/12/Broadway_and_Times_Square_by_night.jpg/450px-Broadway_and_Times_Square_by_night.jpg\"\n",
    "subscription_key =\"\"\n",
    "endpoint = \"https://visiondemo123.cognitiveservices.azure.com/\""
   ]
  },
  {
   "cell_type": "code",
   "execution_count": 2,
   "metadata": {
    "gather": {
     "logged": 1639140733073
    }
   },
   "outputs": [
    {
     "name": "stdout",
     "output_type": "stream",
     "text": [
      "A busy city street at night\n",
      "{'description': {'tags': ['building', 'outdoor', 'street', 'city', 'people', 'busy', 'night', 'ride', 'crowd'], 'captions': [{'text': 'a busy city street at night', 'confidence': 0.5885409712791443}]}, 'requestId': '98a025a7-96ae-4c33-8065-4d2a0c870f05', 'metadata': {'height': 600, 'width': 450, 'format': 'Jpeg'}, 'modelVersion': '2021-05-01'}\n"
     ]
    }
   ],
   "source": [
    "import requests\n",
    "import json\n",
    "\n",
    "analyze_url = endpoint + \"vision/v3.2/describe\"\n",
    "\n",
    "from urllib.request import urlopen\n",
    "\n",
    "with urlopen(image_url) as file:\n",
    "    content = file.read()\n",
    "\n",
    "headers = {'Ocp-Apim-Subscription-Key': subscription_key, 'Content-Type': 'application/octet-stream' }\n",
    "params = {'visualFeatures': 'Description'}\n",
    "\n",
    "response = requests.post(analyze_url, headers=headers, params=params, data=content)\n",
    "response.raise_for_status()\n",
    "    \n",
    "analysis = response.json()\n",
    "\n",
    "image_caption = analysis[\"description\"][\"captions\"][0][\"text\"].capitalize().replace('\"','')\n",
    "print(image_caption)\n",
    "print(analysis)\n"
   ]
  }
 ],
 "metadata": {
  "kernel_info": {
   "name": "python3-azureml"
  },
  "kernelspec": {
   "display_name": "Python 3",
   "language": "python",
   "name": "python3"
  },
  "language_info": {
   "codemirror_mode": {
    "name": "ipython",
    "version": 3
   },
   "file_extension": ".py",
   "mimetype": "text/x-python",
   "name": "python",
   "nbconvert_exporter": "python",
   "pygments_lexer": "ipython3",
   "version": "3.8.8"
  },
  "microsoft": {
   "host": {
    "AzureML": {
     "notebookHasBeenCompleted": true
    }
   }
  },
  "nteract": {
   "version": "nteract-front-end@1.0.0"
  }
 },
 "nbformat": 4,
 "nbformat_minor": 2
}
