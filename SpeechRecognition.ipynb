{
 "cells": [
  {
   "cell_type": "markdown",
   "id": "44fd63fe",
   "metadata": {},
   "source": [
    "The following block install the dependencies for the python script"
   ]
  },
  {
   "cell_type": "code",
   "execution_count": 1,
   "id": "336401a5",
   "metadata": {},
   "outputs": [
    {
     "name": "stdout",
     "output_type": "stream",
     "text": [
      "Requirement already satisfied: ipywebrtc in c:\\tools\\anaconda3\\lib\\site-packages (0.6.0)\n",
      "Requirement already satisfied: azure-cognitiveservices-speech in c:\\tools\\anaconda3\\lib\\site-packages (1.19.0)\n"
     ]
    }
   ],
   "source": [
    "import sys\n",
    "!{sys.executable} -m pip install ipywebrtc azure-cognitiveservices-speech                    "
   ]
  },
  {
   "cell_type": "markdown",
   "id": "048b4b97",
   "metadata": {},
   "source": [
    "Set the subscription_key and endpoint values below to the corresponding values from the provided Azure speech Service"
   ]
  },
  {
   "cell_type": "code",
   "execution_count": 1,
   "id": "4d7b4d37",
   "metadata": {},
   "outputs": [],
   "source": [
    "subscription_key =\"\"\n",
    "endpoint = \"\""
   ]
  },
  {
   "cell_type": "markdown",
   "id": "e8837fa0",
   "metadata": {},
   "source": [
    "Running the following code will activate your microphone and attempt to perform speech recognition in real time. \n",
    "\n",
    "Two types of output are generated a line beginning with \"Recognising\" will display in progress attempts "
   ]
  },
  {
   "cell_type": "code",
   "execution_count": 2,
   "id": "d1d85aff",
   "metadata": {},
   "outputs": [
    {
     "name": "stdout",
     "output_type": "stream",
     "text": [
      "Speak into your microphone.\n",
      "\n",
      "*** Recognised \n",
      "\n",
      "*** Recognised \n",
      "\n",
      "*** Recognised \n",
      "Recognising one look at his tuck tail and run so fast his feet didn't touch the ground bringing those were tough nowadays\n",
      "*** Recognised One look at his tuck tail and run so fast his feet didn't touch the ground. Bringing those were tough nowadays.\n",
      "Recognising thank you so much for this my other clothes were ready to run away by themselves\n",
      "*** Recognised Thank you so much for this. My other clothes were ready to run away by themselves.\n",
      "Recognising but of course\n",
      "*** Recognised But of course.\n",
      "Recognising you look lovely\n",
      "*** Recognised You look lovely.\n",
      "Recognising those citizens state shuffles sweet wine and lots of it\n",
      "*** Recognised Both citizens state shuffles sweet wine and lots of it.\n",
      "Recognising and"
     ]
    },
    {
     "ename": "KeyboardInterrupt",
     "evalue": "",
     "output_type": "error",
     "traceback": [
      "\u001b[1;31m---------------------------------------------------------------------------\u001b[0m",
      "\u001b[1;31mKeyboardInterrupt\u001b[0m                         Traceback (most recent call last)",
      "\u001b[1;32m<ipython-input-2-654f9da62fd3>\u001b[0m in \u001b[0;36m<module>\u001b[1;34m\u001b[0m\n\u001b[0;32m     24\u001b[0m         \u001b[0mtime\u001b[0m\u001b[1;33m.\u001b[0m\u001b[0msleep\u001b[0m\u001b[1;33m(\u001b[0m\u001b[1;36m.5\u001b[0m\u001b[1;33m)\u001b[0m\u001b[1;33m\u001b[0m\u001b[1;33m\u001b[0m\u001b[0m\n\u001b[0;32m     25\u001b[0m \u001b[1;33m\u001b[0m\u001b[0m\n\u001b[1;32m---> 26\u001b[1;33m \u001b[0mfrom_mic\u001b[0m\u001b[1;33m(\u001b[0m\u001b[1;33m)\u001b[0m\u001b[1;33m\u001b[0m\u001b[1;33m\u001b[0m\u001b[0m\n\u001b[0m",
      "\u001b[1;32m<ipython-input-2-654f9da62fd3>\u001b[0m in \u001b[0;36mfrom_mic\u001b[1;34m()\u001b[0m\n\u001b[0;32m     22\u001b[0m     \u001b[0mspeech_recognizer\u001b[0m\u001b[1;33m.\u001b[0m\u001b[0mstart_continuous_recognition\u001b[0m\u001b[1;33m(\u001b[0m\u001b[1;33m)\u001b[0m\u001b[1;33m\u001b[0m\u001b[1;33m\u001b[0m\u001b[0m\n\u001b[0;32m     23\u001b[0m     \u001b[1;32mwhile\u001b[0m \u001b[1;32mnot\u001b[0m \u001b[0mdone\u001b[0m\u001b[1;33m:\u001b[0m\u001b[1;33m\u001b[0m\u001b[1;33m\u001b[0m\u001b[0m\n\u001b[1;32m---> 24\u001b[1;33m         \u001b[0mtime\u001b[0m\u001b[1;33m.\u001b[0m\u001b[0msleep\u001b[0m\u001b[1;33m(\u001b[0m\u001b[1;36m.5\u001b[0m\u001b[1;33m)\u001b[0m\u001b[1;33m\u001b[0m\u001b[1;33m\u001b[0m\u001b[0m\n\u001b[0m\u001b[0;32m     25\u001b[0m \u001b[1;33m\u001b[0m\u001b[0m\n\u001b[0;32m     26\u001b[0m \u001b[0mfrom_mic\u001b[0m\u001b[1;33m(\u001b[0m\u001b[1;33m)\u001b[0m\u001b[1;33m\u001b[0m\u001b[1;33m\u001b[0m\u001b[0m\n",
      "\u001b[1;31mKeyboardInterrupt\u001b[0m: "
     ]
    }
   ],
   "source": [
    "import azure.cognitiveservices.speech as speechsdk\n",
    "import time\n",
    "\n",
    "done = False\n",
    "\n",
    "def stop_cb(evt):\n",
    "    print('CLOSING on {}'.format(evt))\n",
    "    speech_recognizer.stop_continuous_recognition()\n",
    "    done = True\n",
    "\n",
    "def from_mic():\n",
    "    speech_config = speechsdk.SpeechConfig(subscription=subscription_key, endpoint=endpoint)   \n",
    "    speech_recognizer = speechsdk.SpeechRecognizer(speech_config=speech_config)\n",
    "    \n",
    "    speech_recognizer.recognizing.connect(lambda evt: print(\"\\rRecognising : \" + evt.result.text, end=\"\"))\n",
    "    speech_recognizer.recognized.connect(lambda evt: print(\"\\n***Recognised*** :  \" + evt.result.text))\n",
    "\n",
    "    speech_recognizer.session_stopped.connect(stop_cb)\n",
    "    speech_recognizer.canceled.connect(stop_cb)\n",
    "    \n",
    "    print(\"Speak into your microphone.\")\n",
    "    speech_recognizer.start_continuous_recognition()\n",
    "    while not done:\n",
    "        time.sleep(.5)\n",
    "\n",
    "from_mic()"
   ]
  },
  {
   "cell_type": "code",
   "execution_count": null,
   "id": "0c10cdcf",
   "metadata": {},
   "outputs": [],
   "source": []
  },
  {
   "cell_type": "code",
   "execution_count": null,
   "id": "2797b494",
   "metadata": {},
   "outputs": [],
   "source": []
  }
 ],
 "metadata": {
  "kernelspec": {
   "display_name": "Python 3",
   "language": "python",
   "name": "python3"
  },
  "language_info": {
   "codemirror_mode": {
    "name": "ipython",
    "version": 3
   },
   "file_extension": ".py",
   "mimetype": "text/x-python",
   "name": "python",
   "nbconvert_exporter": "python",
   "pygments_lexer": "ipython3",
   "version": "3.8.8"
  }
 },
 "nbformat": 4,
 "nbformat_minor": 5
}
